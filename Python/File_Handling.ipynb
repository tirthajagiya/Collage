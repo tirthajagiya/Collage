{
 "cells": [
  {
   "cell_type": "code",
   "execution_count": 17,
   "id": "ab082923-e7fd-49f1-a177-9f13af56d417",
   "metadata": {},
   "outputs": [
    {
     "name": "stdout",
     "output_type": "stream",
     "text": [
      "Hello\n",
      "My Name Is Tirth\n",
      "From Darshan University\n"
     ]
    }
   ],
   "source": [
    "fp=open(\"file1.txt\",\"r\")\n",
    "print(fp.read())"
   ]
  },
  {
   "cell_type": "code",
   "execution_count": 23,
   "id": "e6748663-af89-47e7-a109-485888bac831",
   "metadata": {},
   "outputs": [
    {
     "name": "stdout",
     "output_type": "stream",
     "text": [
      "Hello\n",
      "\n"
     ]
    }
   ],
   "source": [
    "fp=open(\"file1.txt\",\"r\")\n",
    "print(fp.readline())"
   ]
  },
  {
   "cell_type": "code",
   "execution_count": 11,
   "id": "6648c633-3a2e-4219-bf22-76ff48ba79bb",
   "metadata": {},
   "outputs": [],
   "source": [
    "fp=open(\"file1.txt\",\"w\")\n",
    "fp.write(\"bye\")\n",
    "fp.close()"
   ]
  },
  {
   "cell_type": "code",
   "execution_count": 53,
   "id": "7710d31e-ff9d-4801-8c47-c33cdb846263",
   "metadata": {},
   "outputs": [],
   "source": [
    "li=[\"sdf\",\"fedcfv\",\"frew\"]\n",
    "fp=open(\"file1.txt\",\"w\")\n",
    "fp.writelines(li)\n",
    "fp.close()"
   ]
  },
  {
   "cell_type": "code",
   "execution_count": 63,
   "id": "aef707d2-3673-4aac-8a25-fb77323f8c58",
   "metadata": {},
   "outputs": [
    {
     "name": "stdout",
     "output_type": "stream",
     "text": [
      "['10\\n', '20\\n', '30\\n', '40\\n']\n"
     ]
    }
   ],
   "source": [
    "li=[10,20,30,40]\n",
    "li=[str(i)+\"\\n\" for i in li]\n",
    "print(li)\n",
    "fp=open(\"file1.txt\",\"w\")\n",
    "fp.writelines(li)\n",
    "fp.close()"
   ]
  },
  {
   "cell_type": "code",
   "execution_count": 77,
   "id": "b2542c83-2117-4afa-97e6-107a7608c4bc",
   "metadata": {},
   "outputs": [
    {
     "name": "stdout",
     "output_type": "stream",
     "text": [
      "100\n"
     ]
    }
   ],
   "source": [
    "fp=open(\"file1.txt\",\"r\")\n",
    "li=fp.read().split()\n",
    "li=[int(i) for i in li]\n",
    "print(sum(li))\n",
    "fp.close()"
   ]
  },
  {
   "cell_type": "code",
   "execution_count": 11,
   "id": "0b646c62-4933-40da-96de-9ec7aa24f56e",
   "metadata": {},
   "outputs": [],
   "source": [
    "fp=open(\"file1.txt\",\"a\")\n",
    "fp.seek(0,0)\n",
    "fp.write(\"ja\")\n",
    "fp.close()"
   ]
  },
  {
   "cell_type": "code",
   "execution_count": null,
   "id": "1a8d1cc3-e8c0-482e-8a88-ba63166b2077",
   "metadata": {},
   "outputs": [],
   "source": [
    "li=[\"sdf\",\"fedcfv\",\"frew\"]\n",
    "fp=open(\"file1.txt\",\"a\")\n",
    "fp.writelines(li)\n",
    "fp.close()"
   ]
  },
  {
   "cell_type": "code",
   "execution_count": 85,
   "id": "572c22d9-80f2-4f04-925c-f9abc5fb2e52",
   "metadata": {},
   "outputs": [],
   "source": [
    "fp=open(\"file3.txt\",\"x\")\n",
    "fp.write(\"asdf\")\n",
    "fp.close()"
   ]
  },
  {
   "cell_type": "code",
   "execution_count": 9,
   "id": "8e544c94-4f3f-4212-a828-4e42ee3b5501",
   "metadata": {},
   "outputs": [
    {
     "name": "stdout",
     "output_type": "stream",
     "text": [
      "\n"
     ]
    }
   ],
   "source": [
    "fp=open(\"file1.txt\",\"r+\")\n",
    "fp.seek(0,2)\n",
    "fp.write(\"zzz\")\n",
    "print(fp.read())\n",
    "fp.close()"
   ]
  },
  {
   "cell_type": "code",
   "execution_count": 7,
   "id": "da579a14-4d65-4270-9a38-1be701911a20",
   "metadata": {},
   "outputs": [
    {
     "name": "stdout",
     "output_type": "stream",
     "text": [
      "\n"
     ]
    }
   ],
   "source": [
    "fp=open(\"file1.txt\",\"w+\")\n",
    "fp.write(\"zzz\")\n",
    "print(fp.read())\n",
    "fp.close()"
   ]
  },
  {
   "cell_type": "code",
   "execution_count": 7,
   "id": "457651a5-a8f5-43da-86a3-5c9bfd667b58",
   "metadata": {},
   "outputs": [
    {
     "name": "stdout",
     "output_type": "stream",
     "text": [
      "tirth\n"
     ]
    }
   ],
   "source": [
    "fp=open(\"file1.txt\",\"r+\")\n",
    "print(fp.read())\n",
    "fp.write(\"zzz\")\n",
    "fp.close()"
   ]
  },
  {
   "cell_type": "code",
   "execution_count": 9,
   "id": "df46eaa7-c741-4052-b606-312381903f18",
   "metadata": {},
   "outputs": [
    {
     "name": "stdout",
     "output_type": "stream",
     "text": [
      "\n"
     ]
    }
   ],
   "source": [
    "fp=open(\"file1.txt\",\"w+\")\n",
    "print(fp.read())\n",
    "fp.write(\"zzz\")\n",
    "fp.close()"
   ]
  },
  {
   "cell_type": "code",
   "execution_count": 19,
   "id": "fffb5a08-ed6d-4cc2-9acf-434eea583bc7",
   "metadata": {},
   "outputs": [
    {
     "name": "stdout",
     "output_type": "stream",
     "text": [
      "3252777792896\n",
      "3252777740992\n",
      "False\n",
      "3252777792896\n",
      "True\n",
      "True\n"
     ]
    }
   ],
   "source": [
    "A=[1,2]\n",
    "B=[3,4]\n",
    "print(id(A))\n",
    "print(id(B))\n",
    "print(A is B)\n",
    "C=A\n",
    "print(id(C))\n",
    "print(A is C)\n",
    "print(C is A)"
   ]
  },
  {
   "cell_type": "code",
   "execution_count": 23,
   "id": "5ccd6227-08c2-48c6-9348-1888c84f1b3a",
   "metadata": {},
   "outputs": [
    {
     "name": "stdout",
     "output_type": "stream",
     "text": [
      "False\n"
     ]
    }
   ],
   "source": [
    "li=[1,2,3,4,5]\n",
    "print(10 in li)"
   ]
  },
  {
   "cell_type": "code",
   "execution_count": 39,
   "id": "314cea81-901f-4ebb-8ef7-c6862094d10d",
   "metadata": {},
   "outputs": [
    {
     "data": {
      "text/plain": [
       "False"
      ]
     },
     "execution_count": 39,
     "metadata": {},
     "output_type": "execute_result"
    }
   ],
   "source": [
    "x2=258\n",
    "y2=258\n",
    "x2 is y2"
   ]
  },
  {
   "cell_type": "code",
   "execution_count": 47,
   "id": "d9a4e86d-3bde-453e-9aca-5caef43a23cc",
   "metadata": {},
   "outputs": [
    {
     "data": {
      "text/plain": [
       "False"
      ]
     },
     "execution_count": 47,
     "metadata": {},
     "output_type": "execute_result"
    }
   ],
   "source": [
    "a=0.1\n",
    "b=0.1\n",
    "a is b"
   ]
  },
  {
   "cell_type": "code",
   "execution_count": 49,
   "id": "bd07e92e-5093-4a4c-9650-a76580d70779",
   "metadata": {},
   "outputs": [
    {
     "data": {
      "text/plain": [
       "True"
      ]
     },
     "execution_count": 49,
     "metadata": {},
     "output_type": "execute_result"
    }
   ],
   "source": [
    "a=True\n",
    "b=True\n",
    "a is b"
   ]
  },
  {
   "cell_type": "code",
   "execution_count": 51,
   "id": "270f29b5-c7e6-4b16-9779-0690087cf593",
   "metadata": {},
   "outputs": [
    {
     "data": {
      "text/plain": [
       "False"
      ]
     },
     "execution_count": 51,
     "metadata": {},
     "output_type": "execute_result"
    }
   ],
   "source": [
    "a=[1]\n",
    "b=[2]\n",
    "a is b"
   ]
  },
  {
   "cell_type": "code",
   "execution_count": 53,
   "id": "75ed8cc6-ec18-43cc-8d65-b4bdf53e07eb",
   "metadata": {},
   "outputs": [
    {
     "data": {
      "text/plain": [
       "False"
      ]
     },
     "execution_count": 53,
     "metadata": {},
     "output_type": "execute_result"
    }
   ],
   "source": [
    "a=\"hello\"\n",
    "b=\"hello\"\n",
    "a is b"
   ]
  },
  {
   "cell_type": "code",
   "execution_count": 57,
   "id": "272f5806-9c3e-41c5-bfe3-6c5b5ddc2dc4",
   "metadata": {},
   "outputs": [
    {
     "name": "stdout",
     "output_type": "stream",
     "text": [
      "ddd\n"
     ]
    }
   ],
   "source": [
    "n=10\n",
    "match n:\n",
    "    case 1:\n",
    "        print(\"1\")\n",
    "    case 2:\n",
    "        print(\"2\")\n",
    "    case _:\n",
    "        print(\"ddd\")"
   ]
  },
  {
   "cell_type": "code",
   "execution_count": null,
   "id": "c5f70492-a38b-4ddf-a69e-02738f4c42c0",
   "metadata": {},
   "outputs": [],
   "source": []
  }
 ],
 "metadata": {
  "kernelspec": {
   "display_name": "Python 3 (ipykernel)",
   "language": "python",
   "name": "python3"
  },
  "language_info": {
   "codemirror_mode": {
    "name": "ipython",
    "version": 3
   },
   "file_extension": ".py",
   "mimetype": "text/x-python",
   "name": "python",
   "nbconvert_exporter": "python",
   "pygments_lexer": "ipython3",
   "version": "3.12.7"
  }
 },
 "nbformat": 4,
 "nbformat_minor": 5
}
