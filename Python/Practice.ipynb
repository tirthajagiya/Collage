{
 "cells": [
  {
   "cell_type": "markdown",
   "id": "642cd84f-cfe9-4fd1-819c-c3394f44ca12",
   "metadata": {},
   "source": [
    "# Function"
   ]
  },
  {
   "cell_type": "code",
   "execution_count": 22,
   "id": "5062b98d-ce2c-44cc-b1cf-5e9ef78e3ab8",
   "metadata": {},
   "outputs": [
    {
     "name": "stdout",
     "output_type": "stream",
     "text": [
      "Hello World\n"
     ]
    }
   ],
   "source": [
    "def Print_Hello():\n",
    "    print(\"Hello World\")\n",
    "\n",
    "Print_Hello()"
   ]
  },
  {
   "cell_type": "code",
   "execution_count": 30,
   "id": "25a63410-9dd9-47b3-b425-686db049560b",
   "metadata": {},
   "outputs": [
    {
     "name": "stdout",
     "output_type": "stream",
     "text": [
      "100\n",
      "None\n"
     ]
    }
   ],
   "source": [
    "def square(n):\n",
    "    return n**2\n",
    "\n",
    "print(square(10))"
   ]
  },
  {
   "cell_type": "code",
   "execution_count": 62,
   "id": "43e8b518-919c-46ec-a74b-a2e70217623c",
   "metadata": {},
   "outputs": [
    {
     "name": "stdout",
     "output_type": "stream",
     "text": [
      "([1, 2, 3], (1, 3))\n",
      "<class 'tuple'>\n"
     ]
    }
   ],
   "source": [
    "def commanElement(*li):\n",
    "    # set1=set(l)\n",
    "    # set2=set(t)\n",
    "    # # li=list(set1.intersection(set2))\n",
    "    # return li\n",
    "\n",
    "    print(li)\n",
    "    print(type(li))\n",
    "\n",
    "li1=[1,2,3]\n",
    "commanElement(li1,(1,3))"
   ]
  },
  {
   "cell_type": "code",
   "execution_count": 15,
   "id": "5203af7d-3008-4be1-9292-0b61fbdbbd29",
   "metadata": {},
   "outputs": [
    {
     "name": "stdout",
     "output_type": "stream",
     "text": [
      "True\n"
     ]
    }
   ],
   "source": [
    "a=[1,2]\n",
    "b=[1,2]\n",
    "c=a\n",
    "print(a is a)"
   ]
  },
  {
   "cell_type": "code",
   "execution_count": 71,
   "id": "69716704-427f-4a05-b91e-661e55f8830f",
   "metadata": {},
   "outputs": [
    {
     "name": "stdout",
     "output_type": "stream",
     "text": [
      "True\n"
     ]
    }
   ],
   "source": [
    "a=256\n",
    "b=256\n",
    "print(a is b)"
   ]
  },
  {
   "cell_type": "code",
   "execution_count": 89,
   "id": "757d6190-9e2c-4c2a-bbd6-bd16b9234379",
   "metadata": {},
   "outputs": [],
   "source": [
    "def fn1():\n",
    "    '''\n",
    "    DOCString\n",
    "    '''"
   ]
  },
  {
   "cell_type": "code",
   "execution_count": 87,
   "id": "06faf4a7-4dbb-4ae8-b07c-b3c67dd0358a",
   "metadata": {},
   "outputs": [
    {
     "name": "stdout",
     "output_type": "stream",
     "text": [
      "Hello\n"
     ]
    }
   ],
   "source": [
    "fn1().__doc__"
   ]
  },
  {
   "cell_type": "code",
   "execution_count": null,
   "id": "0745acf7-f03d-4cb4-a49d-e28b82dd3884",
   "metadata": {},
   "outputs": [],
   "source": []
  }
 ],
 "metadata": {
  "kernelspec": {
   "display_name": "Python 3 (ipykernel)",
   "language": "python",
   "name": "python3"
  },
  "language_info": {
   "codemirror_mode": {
    "name": "ipython",
    "version": 3
   },
   "file_extension": ".py",
   "mimetype": "text/x-python",
   "name": "python",
   "nbconvert_exporter": "python",
   "pygments_lexer": "ipython3",
   "version": "3.12.7"
  }
 },
 "nbformat": 4,
 "nbformat_minor": 5
}
