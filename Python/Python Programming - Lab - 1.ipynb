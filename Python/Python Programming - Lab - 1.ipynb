{
 "cells": [
  {
   "cell_type": "markdown",
   "metadata": {},
   "source": [
    "<a href='https://www.darshan.ac.in/'> <img src='https://www.darshan.ac.in/Content/media/DU_Logo.svg' width=\"250\" height=\"10\"/></a>\n",
    "<pre>\n",
    "<center><b><h1>Python Programming - 2301CS404</b></center>\n",
    "<center><b><h1>Lab - 1</b></center>    \n",
    "<pre>"
   ]
  },
  {
   "cell_type": "markdown",
   "metadata": {},
   "source": [
    "### 01) WAP to print “Hello World”"
   ]
  },
  {
   "cell_type": "code",
   "execution_count": 1,
   "metadata": {},
   "outputs": [
    {
     "name": "stdout",
     "output_type": "stream",
     "text": [
      "Hello World\n"
     ]
    }
   ],
   "source": [
    "print(\"Hello World\")"
   ]
  },
  {
   "cell_type": "markdown",
   "metadata": {},
   "source": [
    "### 02) WAP to print addition of two numbers with and without using input()."
   ]
  },
  {
   "cell_type": "code",
   "execution_count": 7,
   "metadata": {},
   "outputs": [
    {
     "name": "stdout",
     "output_type": "stream",
     "text": [
      "30\n"
     ]
    },
    {
     "name": "stdin",
     "output_type": "stream",
     "text": [
      "Enter A First Number. 10\n",
      "Enter A Second Number. 20\n"
     ]
    },
    {
     "name": "stdout",
     "output_type": "stream",
     "text": [
      "30\n"
     ]
    }
   ],
   "source": [
    "a=10\n",
    "b=20\n",
    "print(a+b)\n",
    "\n",
    "p=int(input(\"Enter A First Number.\"))\n",
    "q=int(input(\"Enter A Second Number.\"))\n",
    "\n",
    "print(p+q)"
   ]
  },
  {
   "cell_type": "markdown",
   "metadata": {},
   "source": [
    "### 03) WAP to check the type of the variable."
   ]
  },
  {
   "cell_type": "code",
   "execution_count": 19,
   "metadata": {},
   "outputs": [
    {
     "name": "stdout",
     "output_type": "stream",
     "text": [
      "<class 'str'> <class 'int'>\n"
     ]
    }
   ],
   "source": [
    "a='10'\n",
    "b=10\n",
    "print(type(a),type(b))"
   ]
  },
  {
   "attachments": {},
   "cell_type": "markdown",
   "metadata": {},
   "source": [
    "### 04) WAP to calculate simple interest.\n",
    "\n",
    "p=float(input(\"Enter A Principal.\"))\n",
    "r=float(input(\"Enter A Rate.\"))\n",
    "t=int(input(\"Enter A Time.\"))\n",
    "\n",
    "print(p*r*t/100)\n",
    "\n",
    "### 05) WAP to calculate area and perimeter of a circle.\n",
    "\n",
    "r=int(input(\"Enter A Radius Number.\"))\n",
    "\n",
    "print(\"Area : \" ,22.7*r*r)\n",
    "print(\"Perimeter : \",2*22.7*r)\n",
    "\n",
    "### 06) WAP to calculate area of a triangle.\n",
    "\n",
    "b=int(input(\"Enter A base:\"))\n",
    "h=int(input(\"Enter A Heigth:\"))\n",
    "\n",
    "print(\"Area:\",0.5*b*h)\n",
    "\n",
    "### 07) WAP to compute quotient and remainder.\n",
    "\n",
    "p=int(input(\"Enter A Number: \"))\n",
    "q=int(input(\"Enter A Number: \"))\n",
    " \n",
    "print(\"Rem\",p%q,\"& Quotient\",p//q)\n",
    "\n",
    "### 08) WAP to convert degree into Fahrenheit and vice versa.\n",
    "\n",
    "c=21.5\n",
    "f=(c*1.8)+32\n",
    "print(f)\n",
    "f2=70.7\n",
    "c2=(f2-32)/1.8\n",
    "print(c2)\n",
    "\n",
    "### 09) WAP to find the distance between two points in 2-D space.\n",
    "\n",
    "import math\n",
    "x1=10\n",
    "x2=20\n",
    "y1=15\n",
    "y2=25\n",
    "d=math.sqrt((x2-x1)**2+(y2-y1)**2)\n",
    "print(d)\n",
    "\n",
    "### 10) WAP to print sum of n natural numbers.\n",
    "\n",
    "n=5\n",
    "su=(n(n+1)/2)\n",
    "su2=n(n + 1) /2\n",
    "print(su2)\n",
    "\n",
    "### 11) WAP to print sum of square of n natural numbers."
   ]
  },
  {
   "cell_type": "code",
   "execution_count": 59,
   "metadata": {},
   "outputs": [
    {
     "name": "stdout",
     "output_type": "stream",
     "text": [
      "385.0\n"
     ]
    }
   ],
   "source": [
    "n=10\n",
    "su=((n*(n+1)*(2*n+1))/6)\n",
    "print(su)"
   ]
  },
  {
   "cell_type": "markdown",
   "metadata": {},
   "source": [
    "### 12) WAP to concate the first and last name of the student."
   ]
  },
  {
   "cell_type": "code",
   "execution_count": 65,
   "metadata": {},
   "outputs": [
    {
     "name": "stdout",
     "output_type": "stream",
     "text": [
      "darshan university\n"
     ]
    }
   ],
   "source": [
    "first=\"darshan\"\n",
    "last=\"university\"\n",
    "print(first+\" \"+last)"
   ]
  },
  {
   "cell_type": "markdown",
   "metadata": {},
   "source": [
    "### 13) WAP to swap two numbers."
   ]
  },
  {
   "cell_type": "code",
   "execution_count": 69,
   "metadata": {},
   "outputs": [
    {
     "name": "stdout",
     "output_type": "stream",
     "text": [
      "10 15\n",
      "15 10\n"
     ]
    }
   ],
   "source": [
    "a=10\n",
    "b=15\n",
    "print(a,b)\n",
    "temp=a\n",
    "a=b\n",
    "b=temp\n",
    "print(a,b)"
   ]
  },
  {
   "cell_type": "markdown",
   "metadata": {},
   "source": [
    "### 14) WAP to get the distance from user into kilometer, and convert it into meter, feet, inches and centimeter."
   ]
  },
  {
   "cell_type": "code",
   "execution_count": 75,
   "metadata": {},
   "outputs": [
    {
     "name": "stdout",
     "output_type": "stream",
     "text": [
      "150163.54799999998\n",
      "492662.57482032\n",
      "5911953.901114799\n",
      "15016354.799999999\n"
     ]
    }
   ],
   "source": [
    "km=150.163548\n",
    "print(km*1000)\n",
    "print(km*3280.84)\n",
    "print(km*39370.1)\n",
    "print(km*100000)"
   ]
  },
  {
   "cell_type": "markdown",
   "metadata": {},
   "source": [
    "### 15) WAP to get day, month and year from the user and print the date in the given format: 23-11-2024."
   ]
  },
  {
   "cell_type": "code",
   "execution_count": 79,
   "metadata": {},
   "outputs": [
    {
     "name": "stdout",
     "output_type": "stream",
     "text": [
      "23-11-2024\n"
     ]
    }
   ],
   "source": [
    "day=23\n",
    "month=11\n",
    "year=2024\n",
    "print(day,month,year,sep=\"-\")"
   ]
  },
  {
   "cell_type": "code",
   "execution_count": null,
   "metadata": {},
   "outputs": [],
   "source": []
  }
 ],
 "metadata": {
  "kernelspec": {
   "display_name": "Python 3 (ipykernel)",
   "language": "python",
   "name": "python3"
  },
  "language_info": {
   "codemirror_mode": {
    "name": "ipython",
    "version": 3
   },
   "file_extension": ".py",
   "mimetype": "text/x-python",
   "name": "python",
   "nbconvert_exporter": "python",
   "pygments_lexer": "ipython3",
   "version": "3.12.7"
  },
  "vscode": {
   "interpreter": {
    "hash": "31f2aee4e71d21fbe5cf8b01ff0e069b9275f58929596ceb00d14d90e3e16cd6"
   }
  }
 },
 "nbformat": 4,
 "nbformat_minor": 4
}
