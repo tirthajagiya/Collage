{
 "cells": [
  {
   "cell_type": "markdown",
   "id": "e2179945-8db4-42b1-abd1-cabb72438ac2",
   "metadata": {},
   "source": [
    "## Syntax Error"
   ]
  },
  {
   "cell_type": "code",
   "execution_count": 1,
   "id": "d36b004c-e08e-4bcd-ae7a-8956d62244e4",
   "metadata": {},
   "outputs": [
    {
     "ename": "IndentationError",
     "evalue": "expected an indented block after 'if' statement on line 2 (231984741.py, line 3)",
     "output_type": "error",
     "traceback": [
      "\u001b[1;36m  Cell \u001b[1;32mIn[1], line 3\u001b[1;36m\u001b[0m\n\u001b[1;33m    print(a) #Syntax error, so program won't execute at all.\u001b[0m\n\u001b[1;37m    ^\u001b[0m\n\u001b[1;31mIndentationError\u001b[0m\u001b[1;31m:\u001b[0m expected an indented block after 'if' statement on line 2\n"
     ]
    }
   ],
   "source": [
    "a = 10\n",
    "if a > 5:\n",
    "print(a) #Syntax error, so program won't execute at all.\n",
    "else:\n",
    "    print(\"Enter proper number.\")"
   ]
  },
  {
   "cell_type": "markdown",
   "id": "fe3ead77-e435-4e67-afde-3102282a84dc",
   "metadata": {},
   "source": [
    "## Runtime Error (Exception)"
   ]
  },
  {
   "cell_type": "code",
   "execution_count": 4,
   "id": "3cc5721b-cdc7-437f-8bf9-037faf7897a0",
   "metadata": {},
   "outputs": [
    {
     "name": "stdin",
     "output_type": "stream",
     "text": [
      "Enter first number :  10\n",
      "Enter second number :  0\n"
     ]
    },
    {
     "ename": "ZeroDivisionError",
     "evalue": "integer division or modulo by zero",
     "output_type": "error",
     "traceback": [
      "\u001b[1;31m---------------------------------------------------------------------------\u001b[0m",
      "\u001b[1;31mZeroDivisionError\u001b[0m                         Traceback (most recent call last)",
      "Cell \u001b[1;32mIn[4], line 3\u001b[0m\n\u001b[0;32m      1\u001b[0m a \u001b[38;5;241m=\u001b[39m \u001b[38;5;28mint\u001b[39m(\u001b[38;5;28minput\u001b[39m(\u001b[38;5;124m\"\u001b[39m\u001b[38;5;124mEnter first number : \u001b[39m\u001b[38;5;124m\"\u001b[39m))\n\u001b[0;32m      2\u001b[0m b \u001b[38;5;241m=\u001b[39m \u001b[38;5;28mint\u001b[39m(\u001b[38;5;28minput\u001b[39m(\u001b[38;5;124m\"\u001b[39m\u001b[38;5;124mEnter second number : \u001b[39m\u001b[38;5;124m\"\u001b[39m))\n\u001b[1;32m----> 3\u001b[0m c \u001b[38;5;241m=\u001b[39m a \u001b[38;5;241m/\u001b[39m\u001b[38;5;241m/\u001b[39m b \u001b[38;5;66;03m# if b=0 ZeroDivisionError is raised, and statements after this line won't be executed\u001b[39;00m\n\u001b[0;32m      4\u001b[0m \u001b[38;5;28mprint\u001b[39m(c)\n",
      "\u001b[1;31mZeroDivisionError\u001b[0m: integer division or modulo by zero"
     ]
    }
   ],
   "source": [
    "a = int(input(\"Enter first number : \"))\n",
    "b = int(input(\"Enter second number : \"))\n",
    "c = a // b # if b=0 ZeroDivisionError is raised, and statements after this line won't be executed\n",
    "print(c) "
   ]
  },
  {
   "cell_type": "markdown",
   "id": "02e0d1cb-9a1d-4c45-b269-1a3cf82a9620",
   "metadata": {},
   "source": [
    "## Exception Handling using try except"
   ]
  },
  {
   "cell_type": "code",
   "execution_count": 6,
   "id": "ef801c0c-e2a1-4f23-b2d2-8f7b5cf3feb9",
   "metadata": {},
   "outputs": [
    {
     "name": "stdin",
     "output_type": "stream",
     "text": [
      "Enter first number :  10\n",
      "Enter second number :  0\n"
     ]
    },
    {
     "name": "stdout",
     "output_type": "stream",
     "text": [
      "Some Error\n"
     ]
    }
   ],
   "source": [
    "try:\n",
    "    a = int(input(\"Enter first number : \"))\n",
    "    b = int(input(\"Enter second number : \"))\n",
    "    c = a // b \n",
    "    print(c)\n",
    "except:\n",
    "    print(\"Some Error\")"
   ]
  },
  {
   "cell_type": "code",
   "execution_count": 8,
   "id": "fc850af1-9466-4a46-a949-9a56daad1c32",
   "metadata": {},
   "outputs": [
    {
     "name": "stdin",
     "output_type": "stream",
     "text": [
      "Enter first number :  10\n",
      "Enter second number :  2\n"
     ]
    },
    {
     "name": "stdout",
     "output_type": "stream",
     "text": [
      "5\n"
     ]
    }
   ],
   "source": [
    "try:\n",
    "    a = int(input(\"Enter first number : \"))\n",
    "    b = int(input(\"Enter second number : \"))\n",
    "    c = a // b \n",
    "    print(c)\n",
    "except:\n",
    "    print(\"Some Error\")"
   ]
  },
  {
   "cell_type": "code",
   "execution_count": 12,
   "id": "0efda3f4-84ec-44d9-8659-850b10984da8",
   "metadata": {},
   "outputs": [
    {
     "name": "stdin",
     "output_type": "stream",
     "text": [
      "Enter first number :  10\n",
      "Enter second number :  abc\n"
     ]
    },
    {
     "ename": "ValueError",
     "evalue": "invalid literal for int() with base 10: 'abc'",
     "output_type": "error",
     "traceback": [
      "\u001b[1;31m---------------------------------------------------------------------------\u001b[0m",
      "\u001b[1;31mValueError\u001b[0m                                Traceback (most recent call last)",
      "Cell \u001b[1;32mIn[12], line 3\u001b[0m\n\u001b[0;32m      1\u001b[0m \u001b[38;5;28;01mtry\u001b[39;00m:\n\u001b[0;32m      2\u001b[0m     a \u001b[38;5;241m=\u001b[39m \u001b[38;5;28mint\u001b[39m(\u001b[38;5;28minput\u001b[39m(\u001b[38;5;124m\"\u001b[39m\u001b[38;5;124mEnter first number : \u001b[39m\u001b[38;5;124m\"\u001b[39m))\n\u001b[1;32m----> 3\u001b[0m     b \u001b[38;5;241m=\u001b[39m \u001b[38;5;28mint\u001b[39m(\u001b[38;5;28minput\u001b[39m(\u001b[38;5;124m\"\u001b[39m\u001b[38;5;124mEnter second number : \u001b[39m\u001b[38;5;124m\"\u001b[39m))\n\u001b[0;32m      4\u001b[0m     c \u001b[38;5;241m=\u001b[39m a \u001b[38;5;241m/\u001b[39m\u001b[38;5;241m/\u001b[39m b \n\u001b[0;32m      5\u001b[0m     \u001b[38;5;28mprint\u001b[39m(c)\n",
      "\u001b[1;31mValueError\u001b[0m: invalid literal for int() with base 10: 'abc'"
     ]
    }
   ],
   "source": [
    "try:\n",
    "    a = int(input(\"Enter first number : \"))\n",
    "    b = int(input(\"Enter second number : \"))\n",
    "    c = a // b \n",
    "    print(c)\n",
    "except ZeroDivisionError: #only handles ZerZeroDivisionError\n",
    "    print(\"Some Error\")"
   ]
  },
  {
   "cell_type": "code",
   "execution_count": 14,
   "id": "d0410bc0-86b5-43d3-86f2-e9763abe731d",
   "metadata": {},
   "outputs": [
    {
     "name": "stdin",
     "output_type": "stream",
     "text": [
      "Enter first number :  10\n",
      "Enter second number :  0\n"
     ]
    },
    {
     "name": "stdout",
     "output_type": "stream",
     "text": [
      "Can not divide a number by 0.\n"
     ]
    }
   ],
   "source": [
    "try:\n",
    "    a = int(input(\"Enter first number : \"))\n",
    "    b = int(input(\"Enter second number : \"))\n",
    "    c = a // b \n",
    "    print(c)\n",
    "except ZeroDivisionError:\n",
    "    print(\"Can not divide a number by 0.\")"
   ]
  },
  {
   "cell_type": "code",
   "execution_count": 16,
   "id": "8e2dad79-1d5c-437a-959f-437ab854b66b",
   "metadata": {},
   "outputs": [
    {
     "name": "stdin",
     "output_type": "stream",
     "text": [
      "Enter first number :  10\n",
      "Enter second number :  abc\n"
     ]
    },
    {
     "name": "stdout",
     "output_type": "stream",
     "text": [
      "Please enter valid integer number, string is not allowed.\n"
     ]
    }
   ],
   "source": [
    "try:\n",
    "    a = int(input(\"Enter first number : \"))\n",
    "    b = int(input(\"Enter second number : \"))\n",
    "    c = a // b \n",
    "    print(c)\n",
    "except ZeroDivisionError:\n",
    "    print(\"Can not divide a number by 0.\")\n",
    "except ValueError:\n",
    "    print(\"Please enter valid integer number, string is not allowed.\")"
   ]
  },
  {
   "cell_type": "code",
   "execution_count": 18,
   "id": "4dd6f882-3f14-4ff6-ba8a-5c38c70b5a35",
   "metadata": {},
   "outputs": [
    {
     "name": "stdin",
     "output_type": "stream",
     "text": [
      "Enter first number :  10\n",
      "Enter second number :  2\n"
     ]
    },
    {
     "name": "stdout",
     "output_type": "stream",
     "text": [
      "5\n",
      "Some Runtime Error.\n"
     ]
    }
   ],
   "source": [
    "try:\n",
    "    a = int(input(\"Enter first number : \"))\n",
    "    b = int(input(\"Enter second number : \"))\n",
    "    c = a // b \n",
    "    print(c)\n",
    "    print(2 + '3')\n",
    "except ZeroDivisionError:\n",
    "    print(\"Can not divide a number by 0.\")\n",
    "except ValueError:\n",
    "    print(\"Please enter valid integer number, string is not allowed.\")\n",
    "except:\n",
    "    print(\"Some Runtime Error.\")  #Default Except Block"
   ]
  },
  {
   "cell_type": "markdown",
   "id": "1b9d3b19-6333-45fd-af3b-53563dafc178",
   "metadata": {},
   "source": [
    "## Exception Arguments"
   ]
  },
  {
   "cell_type": "code",
   "execution_count": 23,
   "id": "aa749a7c-59a8-4178-8e9c-6f4ebb9559cc",
   "metadata": {},
   "outputs": [
    {
     "name": "stdin",
     "output_type": "stream",
     "text": [
      "Enter first number :  10\n",
      "Enter second number :  abc\n"
     ]
    },
    {
     "name": "stdout",
     "output_type": "stream",
     "text": [
      "<class 'ValueError'>\n",
      "invalid literal for int() with base 10: 'abc'\n",
      "(\"invalid literal for int() with base 10: 'abc'\",)\n",
      "invalid literal for int() with base 10: 'abc'\n",
      "invalid literal for int() with base 10: 'abc'\n",
      "invalid literal for int() with base 10: 'abc'\n"
     ]
    }
   ],
   "source": [
    "try:\n",
    "    a = int(input(\"Enter first number : \"))\n",
    "    b = int(input(\"Enter second number : \"))\n",
    "    c = a // b \n",
    "    print(c)\n",
    "except (ZeroDivisionError, ValueError) as err:\n",
    "    print(type(err))\n",
    "    print(err)\n",
    "    print(err.args)\n",
    "    print(err.args[0])\n",
    "    print(str(err))\n",
    "    print(err.__str__())"
   ]
  },
  {
   "cell_type": "code",
   "execution_count": 25,
   "id": "42ef66fa-bfaa-436d-9129-9c16fabf9af7",
   "metadata": {},
   "outputs": [
    {
     "name": "stdin",
     "output_type": "stream",
     "text": [
      "Enter first number :  10\n",
      "Enter second number :  abc\n"
     ]
    },
    {
     "name": "stdout",
     "output_type": "stream",
     "text": [
      "invalid literal for int() with base 10: 'abc'\n"
     ]
    }
   ],
   "source": [
    "try:\n",
    "    a = int(input(\"Enter first number : \"))\n",
    "    b = int(input(\"Enter second number : \"))\n",
    "    c = a // b \n",
    "    print(c)\n",
    "except Exception as err:  # as Excpetion is the common class of all non-fatal exceptions\n",
    "    print(err)"
   ]
  },
  {
   "cell_type": "code",
   "execution_count": 27,
   "id": "a6a15ed4-ffa1-4f40-b3d2-def06af314ad",
   "metadata": {},
   "outputs": [
    {
     "name": "stdin",
     "output_type": "stream",
     "text": [
      "Enter first number :  10\n",
      "Enter second number :  0\n"
     ]
    },
    {
     "name": "stdout",
     "output_type": "stream",
     "text": [
      "integer division or modulo by zero\n"
     ]
    }
   ],
   "source": [
    "try:\n",
    "    a = int(input(\"Enter first number : \"))\n",
    "    b = int(input(\"Enter second number : \"))\n",
    "    c = a // b \n",
    "    print(c)\n",
    "except Exception as err: # as Excpetion is the common class of all non-fatal exceptions\n",
    "    print(err) "
   ]
  },
  {
   "cell_type": "code",
   "execution_count": 31,
   "id": "7888d156-8e0f-4494-ac0f-783816f5bcc5",
   "metadata": {},
   "outputs": [
    {
     "name": "stdout",
     "output_type": "stream",
     "text": [
      "[Errno 2] No such file or directory: 'abc1.txt'\n"
     ]
    },
    {
     "ename": "NameError",
     "evalue": "name 'fp' is not defined",
     "output_type": "error",
     "traceback": [
      "\u001b[1;31m---------------------------------------------------------------------------\u001b[0m",
      "\u001b[1;31mNameError\u001b[0m                                 Traceback (most recent call last)",
      "Cell \u001b[1;32mIn[31], line 5\u001b[0m\n\u001b[0;32m      3\u001b[0m \u001b[38;5;28;01mexcept\u001b[39;00m \u001b[38;5;167;01mFileNotFoundError\u001b[39;00m \u001b[38;5;28;01mas\u001b[39;00m err:\n\u001b[0;32m      4\u001b[0m     \u001b[38;5;28mprint\u001b[39m(err)\n\u001b[1;32m----> 5\u001b[0m \u001b[38;5;28mprint\u001b[39m(fp\u001b[38;5;241m.\u001b[39mread()) \u001b[38;5;66;03m#NameError is raised as file is not opened. fp is not created.\u001b[39;00m\n\u001b[0;32m      6\u001b[0m fp\u001b[38;5;241m.\u001b[39mclose()\n",
      "\u001b[1;31mNameError\u001b[0m: name 'fp' is not defined"
     ]
    }
   ],
   "source": [
    "try:\n",
    "    fp = open(\"abc1.txt\",\"r\")\n",
    "except FileNotFoundError as err:\n",
    "    print(err)\n",
    "print(fp.read()) #NameError is raised as file is not opened. fp is not created.\n",
    "fp.close()"
   ]
  },
  {
   "cell_type": "markdown",
   "id": "0b582886-3572-49c9-9fc3-5a65040791cf",
   "metadata": {},
   "source": [
    "## else finally"
   ]
  },
  {
   "cell_type": "code",
   "execution_count": 35,
   "id": "626cd648-b843-412a-88db-b9fef68c5d7a",
   "metadata": {},
   "outputs": [
    {
     "name": "stdout",
     "output_type": "stream",
     "text": [
      "123\n",
      "This block will always be executed.\n"
     ]
    }
   ],
   "source": [
    "try:\n",
    "    fp = open(\"abc.txt\",\"r\")\n",
    "except FileNotFoundError as err:\n",
    "    print(err)\n",
    "else:\n",
    "    print(fp.read())\n",
    "    fp.close()\n",
    "finally:\n",
    "    print(\"This block will always be executed.\")"
   ]
  },
  {
   "cell_type": "code",
   "execution_count": 37,
   "id": "1697c868-38b7-4eba-961b-03a1913b8b58",
   "metadata": {},
   "outputs": [
    {
     "name": "stdout",
     "output_type": "stream",
     "text": [
      "[Errno 2] No such file or directory: 'abc1.txt'\n",
      "This block will always be executed.\n"
     ]
    }
   ],
   "source": [
    "try:\n",
    "    fp = open(\"abc1.txt\",\"r\")\n",
    "except FileNotFoundError as err:\n",
    "    print(err)\n",
    "else:\n",
    "    print(fp.read())\n",
    "    fp.close()\n",
    "finally:\n",
    "    print(\"This block will always be executed.\")"
   ]
  },
  {
   "cell_type": "markdown",
   "id": "afdf196b-dec1-49ba-b4f8-24877c194008",
   "metadata": {},
   "source": [
    "## To print Error Name with Standard Error Message"
   ]
  },
  {
   "cell_type": "code",
   "execution_count": 40,
   "id": "207410cd-ecde-4221-816c-ad935fcbba81",
   "metadata": {},
   "outputs": [
    {
     "name": "stdout",
     "output_type": "stream",
     "text": [
      "ZeroDivisionError :  division by zero\n"
     ]
    }
   ],
   "source": [
    "try:\n",
    "    print(10/0)\n",
    "except Exception as err:\n",
    "    print(type(err).__name__ + \" :  \" + str(err))"
   ]
  },
  {
   "cell_type": "markdown",
   "id": "2ad2b213-245f-4ca3-96c5-237e63c1cfae",
   "metadata": {},
   "source": [
    "### To get the class hierarchy of Exception Classes"
   ]
  },
  {
   "cell_type": "code",
   "execution_count": 43,
   "id": "1f93a654-d871-45e2-9b23-6ac578713905",
   "metadata": {},
   "outputs": [
    {
     "name": "stdout",
     "output_type": "stream",
     "text": [
      "(<class 'ZeroDivisionError'>, <class 'ArithmeticError'>, <class 'Exception'>, <class 'BaseException'>, <class 'object'>)\n"
     ]
    }
   ],
   "source": [
    "import inspect\n",
    "parent_class =  inspect.getmro(ZeroDivisionError)\n",
    "print(parent_class)"
   ]
  },
  {
   "cell_type": "code",
   "execution_count": 45,
   "id": "932d0fcb-bd0d-46ba-a085-a34f23bbf4b7",
   "metadata": {},
   "outputs": [
    {
     "name": "stdout",
     "output_type": "stream",
     "text": [
      "<class 'object'>\n",
      "<class 'BaseException'>\n",
      "<class 'Exception'>\n",
      "<class 'ArithmeticError'>\n",
      "<class 'ZeroDivisionError'>\n"
     ]
    }
   ],
   "source": [
    "import inspect\n",
    "parent_class =  inspect.getmro(ZeroDivisionError)\n",
    "for i in parent_class[::-1]:\n",
    "    print(i)"
   ]
  },
  {
   "cell_type": "markdown",
   "id": "45b2b642-669f-4a58-9731-e49055d43787",
   "metadata": {},
   "source": [
    "## To raise the specified exception"
   ]
  },
  {
   "cell_type": "code",
   "execution_count": 50,
   "id": "1b002bd9-1e76-419f-bafc-186fddecfa6d",
   "metadata": {},
   "outputs": [
    {
     "name": "stdout",
     "output_type": "stream",
     "text": [
      "some error\n"
     ]
    }
   ],
   "source": [
    "try:\n",
    "    raise ZeroDivisionError\n",
    "except ZeroDivisionError:\n",
    "    print(\"some error\")"
   ]
  },
  {
   "cell_type": "markdown",
   "id": "b9ede70b-3409-4b3a-8993-d48676712788",
   "metadata": {},
   "source": [
    "## Example : Operating file with exception handling "
   ]
  },
  {
   "cell_type": "code",
   "execution_count": 53,
   "id": "e6f39ae4-ef7c-4a0b-8505-422b27596575",
   "metadata": {},
   "outputs": [
    {
     "name": "stdout",
     "output_type": "stream",
     "text": [
      "TypeError:unsupported operand type(s) for +: 'int' and 'str'\n"
     ]
    }
   ],
   "source": [
    "try:\n",
    "    fp = open(\"abc.txt\",\"r\")\n",
    "    ans = 5 + fp.read()\n",
    "except Exception as err:\n",
    "    print(type(err).__name__ + \":\" + str(err))\n",
    "else:\n",
    "    print(ans)\n",
    "finally:\n",
    "    fp.close()"
   ]
  },
  {
   "cell_type": "code",
   "execution_count": 55,
   "id": "ff7f3b2e-6986-4da7-874f-ad104eced20b",
   "metadata": {},
   "outputs": [
    {
     "data": {
      "text/plain": [
       "True"
      ]
     },
     "execution_count": 55,
     "metadata": {},
     "output_type": "execute_result"
    }
   ],
   "source": [
    "fp.closed"
   ]
  },
  {
   "cell_type": "markdown",
   "id": "592c0d45-4277-4aef-af64-8103b967977d",
   "metadata": {},
   "source": [
    "## User Defined Exception"
   ]
  },
  {
   "cell_type": "code",
   "execution_count": 58,
   "id": "91aa97bb-477e-430c-9c02-0da4b8b8b29d",
   "metadata": {},
   "outputs": [
    {
     "name": "stdin",
     "output_type": "stream",
     "text": [
      "enter first number :  10\n",
      "Enter second number :  2\n"
     ]
    },
    {
     "name": "stdout",
     "output_type": "stream",
     "text": [
      "5\n"
     ]
    }
   ],
   "source": [
    "class FiveDivisionError(Exception):\n",
    "    pass\n",
    "\n",
    "try:\n",
    "    a = int(input(\"enter first number : \"))\n",
    "    b = int(input(\"Enter second number : \"))\n",
    "    if b != 5:\n",
    "        print(a // b)\n",
    "    else:\n",
    "        raise FiveDivisionError\n",
    "        \n",
    "except FiveDivisionError:\n",
    "    print(\"ERROR\")"
   ]
  },
  {
   "cell_type": "code",
   "execution_count": 60,
   "id": "fd86ec8d-6b38-466a-b726-5d729c8f041c",
   "metadata": {},
   "outputs": [
    {
     "name": "stdin",
     "output_type": "stream",
     "text": [
      "enter first number :  10\n",
      "Enter second number :  5\n"
     ]
    },
    {
     "name": "stdout",
     "output_type": "stream",
     "text": [
      "ERROR\n"
     ]
    }
   ],
   "source": [
    "class FiveDivisionError(Exception):\n",
    "    pass\n",
    "\n",
    "try:\n",
    "    a = int(input(\"enter first number : \"))\n",
    "    b = int(input(\"Enter second number : \"))\n",
    "    if b != 5:\n",
    "        print(a // b)\n",
    "    else:\n",
    "        raise FiveDivisionError\n",
    "        \n",
    "except FiveDivisionError:\n",
    "    print(\"ERROR\")"
   ]
  },
  {
   "cell_type": "code",
   "execution_count": 62,
   "id": "e62d22e2-a817-45e1-a2db-8dc4c0c93a9b",
   "metadata": {},
   "outputs": [
    {
     "name": "stdin",
     "output_type": "stream",
     "text": [
      "enter first number :  10\n",
      "Enter second number :  5\n"
     ]
    },
    {
     "name": "stdout",
     "output_type": "stream",
     "text": [
      "can not divide by five.\n"
     ]
    }
   ],
   "source": [
    "class FiveDivisionError(Exception):\n",
    "    def __init__(self, msg):\n",
    "        self.msg = msg\n",
    "\n",
    "try:\n",
    "    a = int(input(\"enter first number : \"))\n",
    "    b = int(input(\"Enter second number : \"))\n",
    "    if b != 5:\n",
    "        print(a // b)\n",
    "    else:\n",
    "        raise FiveDivisionError(\"can not divide by five.\")\n",
    "        \n",
    "except FiveDivisionError as err:\n",
    "    print(err)"
   ]
  },
  {
   "cell_type": "code",
   "execution_count": 64,
   "id": "45e1560f-bcff-4493-b76c-1f4a7d886fd1",
   "metadata": {},
   "outputs": [
    {
     "name": "stdin",
     "output_type": "stream",
     "text": [
      "Enter a number:  -6\n"
     ]
    },
    {
     "name": "stdout",
     "output_type": "stream",
     "text": [
      "number can not be negative.\n"
     ]
    }
   ],
   "source": [
    "class NegativeNumberError(Exception):\n",
    "    def __init__(self, msg):\n",
    "        self.msg = msg\n",
    "\n",
    "try:\n",
    "    a = int(input(\"Enter a number: \"))\n",
    "    if  a >= 0:\n",
    "        print(a)\n",
    "    else:\n",
    "        raise NegativeNumberError(\"number can not be negative.\")\n",
    "except NegativeNumberError as err:\n",
    "    print(err)"
   ]
  }
 ],
 "metadata": {
  "kernelspec": {
   "display_name": "Python 3 (ipykernel)",
   "language": "python",
   "name": "python3"
  },
  "language_info": {
   "codemirror_mode": {
    "name": "ipython",
    "version": 3
   },
   "file_extension": ".py",
   "mimetype": "text/x-python",
   "name": "python",
   "nbconvert_exporter": "python",
   "pygments_lexer": "ipython3",
   "version": "3.12.7"
  }
 },
 "nbformat": 4,
 "nbformat_minor": 5
}
