{
 "cells": [
  {
   "cell_type": "code",
   "execution_count": 3,
   "id": "d61e0c4e-6cd7-4b51-b3cd-cd634bc69736",
   "metadata": {},
   "outputs": [
    {
     "data": {
      "text/plain": [
       "'Hello world'"
      ]
     },
     "execution_count": 3,
     "metadata": {},
     "output_type": "execute_result"
    }
   ],
   "source": [
    "# Converts the first character to upper case\n",
    "str=\"Hello World\"\n",
    "str.capitalize()"
   ]
  },
  {
   "cell_type": "code",
   "execution_count": 5,
   "id": "4d319d53-5ae1-4c98-97f1-95a98b594070",
   "metadata": {},
   "outputs": [
    {
     "data": {
      "text/plain": [
       "'hello world'"
      ]
     },
     "execution_count": 5,
     "metadata": {},
     "output_type": "execute_result"
    }
   ],
   "source": [
    "# Converts string into lower case\n",
    "str.casefold()"
   ]
  },
  {
   "cell_type": "code",
   "execution_count": 27,
   "id": "18de9cf6-e990-4034-8a64-9dd74b5b135f",
   "metadata": {},
   "outputs": [
    {
     "data": {
      "text/plain": [
       "'**Hello World***'"
      ]
     },
     "execution_count": 27,
     "metadata": {},
     "output_type": "execute_result"
    }
   ],
   "source": [
    "# Returns a centered string\n",
    "# string.center(length, character)\n",
    "# length:\tRequired. The length of the returned string\n",
    "# character:\tOptional. The character to fill the missing space on each side. Default is \" \" (space)\n",
    "str.center(15)\n",
    "str.center(16,'*')"
   ]
  },
  {
   "cell_type": "code",
   "execution_count": 51,
   "id": "a5c0c557-73bf-4a80-912d-bbac3bc1a8bc",
   "metadata": {},
   "outputs": [
    {
     "data": {
      "text/plain": [
       "0"
      ]
     },
     "execution_count": 51,
     "metadata": {},
     "output_type": "execute_result"
    }
   ],
   "source": [
    "# Returns the number of times a specified value occurs in a string\n",
    "# string.count(value, start, end)\n",
    "# value:\tRequired. A String. The string to value to search for\n",
    "# start:\tOptional. An Integer. The position to start the search. Default is 0\n",
    "# end:\tOptional. An Integer. The position to end the search. Default is the end of the string\n",
    "str.count(\"Hel\")\n",
    "str.count(\"d\",2,4)"
   ]
  },
  {
   "cell_type": "code",
   "execution_count": 67,
   "id": "c9bd154e-2457-4f51-989b-3a9f62d81f72",
   "metadata": {},
   "outputs": [
    {
     "data": {
      "text/plain": [
       "False"
      ]
     },
     "execution_count": 67,
     "metadata": {},
     "output_type": "execute_result"
    }
   ],
   "source": [
    "# Returns true if the string ends with the specified value\n",
    "# string.endswith(value, start, end)\n",
    "# value:\tRequired. The value to check if the string ends with. This value parameter can also be a tuple, then the method returns true if the string ends with any of the tuple values.\n",
    "# start:\tOptional. An Integer specifying at which position to start the search\n",
    "# end:\tOptional. An Integer specifying at which position to end the search\n",
    "str.endswith(\"d\")\n",
    "str.endswith(\"world\")\n",
    "str.endswith(\"d\",2,4)"
   ]
  },
  {
   "cell_type": "code",
   "execution_count": 81,
   "id": "8fe55dc8-8d28-41b0-a574-715d62355451",
   "metadata": {},
   "outputs": [
    {
     "data": {
      "text/plain": [
       "'Hell      o'"
      ]
     },
     "execution_count": 81,
     "metadata": {},
     "output_type": "execute_result"
    }
   ],
   "source": [
    "# Sets the tab size of the string\n",
    "# string.expandtabs(tabsize)\n",
    "# tabsize:\tOptional. A number specifying the tabsize. Default tabsize is 8\n",
    "str2=\"Hell\\to\"\n",
    "str2.expandtabs(10)"
   ]
  },
  {
   "cell_type": "code",
   "execution_count": 89,
   "id": "bed9926b-e6d0-4c71-ac30-1dda7622aef9",
   "metadata": {},
   "outputs": [
    {
     "data": {
      "text/plain": [
       "-1"
      ]
     },
     "execution_count": 89,
     "metadata": {},
     "output_type": "execute_result"
    }
   ],
   "source": [
    "# Searches the string for a specified value and returns the position of where it was found\n",
    "# string.find(value, start, end)\n",
    "# value:\tRequired. The value to search for\n",
    "# start:\tOptional. Where to start the search. Default is 0\n",
    "# end:\tOptional. Where to end the search. Default is to the end of the string\n",
    "str.find(\"w\")\n",
    "str.find(\"W\")\n",
    "str.find(\"W\",2,4)"
   ]
  },
  {
   "cell_type": "code",
   "execution_count": 101,
   "id": "89765ee1-1d27-4c97-84f8-a7194d53f81e",
   "metadata": {},
   "outputs": [
    {
     "data": {
      "text/plain": [
       "'My Name is tirth and my age is 18'"
      ]
     },
     "execution_count": 101,
     "metadata": {},
     "output_type": "execute_result"
    }
   ],
   "source": [
    "# Formats specified values in a string\n",
    "str3=\"My Name is {} and my age is {}\"\n",
    "str3.format(\"tirth\",18)\n",
    "str3=\"My Name is {1} and my age is {0}\"\n",
    "str3.format(18,\"tirth\")\n",
    "str3=\"My Name is {name} and my age is {age}\"\n",
    "str3.format(age=18,name=\"tirth\")"
   ]
  },
  {
   "cell_type": "code",
   "execution_count": 105,
   "id": "f8cf4fb5-2e6d-4dfc-8090-7fecc6ca7b8b",
   "metadata": {},
   "outputs": [
    {
     "name": "stdout",
     "output_type": "stream",
     "text": [
      "0\n",
      "1\n",
      "2\n",
      "3\n",
      "4\n",
      "5\n"
     ]
    }
   ],
   "source": [
    "for i in :\n",
    "    print(i)"
   ]
  },
  {
   "cell_type": "code",
   "execution_count": 111,
   "id": "89982db7-34ef-43c0-aaad-072ff7154a6d",
   "metadata": {},
   "outputs": [
    {
     "name": "stdout",
     "output_type": "stream",
     "text": [
      "range(0, 6)\n"
     ]
    }
   ],
   "source": [
    "x=range(0,6,1)\n",
    "print(x)"
   ]
  },
  {
   "cell_type": "code",
   "execution_count": null,
   "id": "b65312f5-d896-42dc-acd1-3e12a7b2f6ca",
   "metadata": {},
   "outputs": [],
   "source": []
  }
 ],
 "metadata": {
  "kernelspec": {
   "display_name": "Python 3 (ipykernel)",
   "language": "python",
   "name": "python3"
  },
  "language_info": {
   "codemirror_mode": {
    "name": "ipython",
    "version": 3
   },
   "file_extension": ".py",
   "mimetype": "text/x-python",
   "name": "python",
   "nbconvert_exporter": "python",
   "pygments_lexer": "ipython3",
   "version": "3.12.7"
  }
 },
 "nbformat": 4,
 "nbformat_minor": 5
}
